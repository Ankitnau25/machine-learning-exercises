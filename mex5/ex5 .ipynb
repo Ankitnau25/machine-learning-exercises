{
 "cells": [
  {
   "cell_type": "code",
   "execution_count": 1,
   "metadata": {
    "collapsed": true
   },
   "outputs": [],
   "source": [
    "import numpy as np\n",
    "import matplotlib.pyplot as plt\n",
    "import scipy.io as sp\n",
    "import scipy.optimize as op\n",
    "from sklearn.preprocessing import PolynomialFeatures\n",
    "from sklearn.preprocessing import normalize\n",
    "from sklearn.linear_model import LinearRegression, Ridge"
   ]
  },
  {
   "cell_type": "markdown",
   "metadata": {},
   "source": [
    "### Visualizing the data"
   ]
  },
  {
   "cell_type": "code",
   "execution_count": 4,
   "metadata": {},
   "outputs": [
    {
     "data": {
      "image/png": "[encoded data removed]",
      "text/plain": [
       "<matplotlib.figure.Figure at 0x157bc633c8>"
      ]
     },
     "metadata": {},
     "output_type": "display_data"
    }
   ],
   "source": [
    "path=\"H:/assignments/machine_learning/mex5/machine-learning-ex5/ex5/ex5data1.mat\"\n",
    "data=sp.loadmat(path)\n",
    "X=data['X']\n",
    "y=data['y']\n",
    "plt.xlabel('Change in water level (x)')\n",
    "plt.ylabel('Water flowing out of the dam (y)') \n",
    "plt.scatter(X,y,marker='x',c='r',linewidths=1.5)\n",
    "plt.show()"
   ]
  },
  {
   "cell_type": "markdown",
   "metadata": {},
   "source": [
    "### Calculating cost and gradients"
   ]
  },
  {
   "cell_type": "code",
   "execution_count": 5,
   "metadata": {
    "collapsed": true
   },
   "outputs": [],
   "source": [
    "plt.close('all')\n",
    "def compute_cost_li_reg(theta,X, y,lam):\n",
    "    theta= np.reshape(theta,(len(theta),1))\n",
    "    m=X.shape[0]\n",
    "    h=X.dot(theta)\n",
    "    return np.sum(np.square(y-h))/(2*m)+(lam/(2*m))*np.sum(np.square(theta[1:]))\n",
    "def grad_li_reg(theta,X,y,lam):\n",
    "    theta= np.reshape(theta,(len(theta),1))\n",
    "    m=X.shape[0]\n",
    "    h=X.dot(theta)\n",
    "    grad=(X.T.dot(h-y))/(X.shape[0])+(lam/m)*np.sum(theta[1:])\n",
    "    return grad"
   ]
  },
  {
   "cell_type": "code",
   "execution_count": 6,
   "metadata": {},
   "outputs": [
    {
     "data": {
      "text/plain": [
       "((12, 1), (12, 1))"
      ]
     },
     "execution_count": 6,
     "metadata": {},
     "output_type": "execute_result"
    }
   ],
   "source": [
    "X.shape,y.shape"
   ]
  },
  {
   "cell_type": "code",
   "execution_count": 7,
   "metadata": {},
   "outputs": [
    {
     "data": {
      "text/plain": [
       "(303.99319222026429, array([[ -15.21968234],\n",
       "        [ 598.25074417]]))"
      ]
     },
     "execution_count": 7,
     "metadata": {},
     "output_type": "execute_result"
    }
   ],
   "source": [
    "theta=np.ones((2))\n",
    "XX=np.c_[np.ones((X.shape[0],1)),X]\n",
    "cost=compute_cost_li_reg(theta,XX, y,1)\n",
    "grad=grad_li_reg(theta,XX, y,1)\n",
    "cost,grad\n"
   ]
  },
  {
   "cell_type": "markdown",
   "metadata": {},
   "source": [
    "### Training linear regression"
   ]
  },
  {
   "cell_type": "code",
   "execution_count": 8,
   "metadata": {
    "collapsed": true
   },
   "outputs": [],
   "source": [
    "def train_linear_regression(XX,y,lam=0, initial_theta = np.zeros((2))):  \n",
    "    Result = op.minimize(fun=compute_cost_li_reg, x0 = initial_theta, args = (XX,y,lam),\\\n",
    "                         method = 'TNC',jac = grad_li_reg,options={'maxiter':5000})\n",
    "    opt_theta=Result.x\n",
    "    return opt_theta"
   ]
  },
  {
   "cell_type": "code",
   "execution_count": 9,
   "metadata": {},
   "outputs": [
    {
     "data": {
      "text/plain": [
       "(2,)"
      ]
     },
     "execution_count": 9,
     "metadata": {},
     "output_type": "execute_result"
    }
   ],
   "source": [
    "lam=0\n",
    "opt_theta=train_linear_regression(XX,y,lam)\n",
    "opt_theta.shape"
   ]
  },
  {
   "cell_type": "code",
   "execution_count": 10,
   "metadata": {},
   "outputs": [
    {
     "data": {
      "image/png": "[encoded data removed]",
      "text/plain": [
       "<matplotlib.figure.Figure at 0x157bc63e10>"
      ]
     },
     "metadata": {},
     "output_type": "display_data"
    }
   ],
   "source": [
    "plt.xlabel('Change in water level (x)')\n",
    "plt.ylabel('Water flowing out of the dam (y)') \n",
    "z=opt_theta[0]+opt_theta[1]*X\n",
    "plt.plot(X,z,c='b')\n",
    "plt.scatter(X,y,marker='x',c='r',linewidths=1.5)\n",
    "plt.ylim(-5,40)\n",
    "plt.xlim(-50,40)\n",
    "plt.show()"
   ]
  },
  {
   "cell_type": "code",
   "execution_count": 11,
   "metadata": {
    "collapsed": true
   },
   "outputs": [],
   "source": [
    "plt.close('all')"
   ]
  },
  {
   "cell_type": "markdown",
   "metadata": {
    "collapsed": true
   },
   "source": [
    "### Plotting learning curves"
   ]
  },
  {
   "cell_type": "code",
   "execution_count": 12,
   "metadata": {},
   "outputs": [],
   "source": [
    "def learningCurve(X, y, Xval, yval, lam,theta=np.zeros((2))):\n",
    "    m = y.size\n",
    "    \n",
    "    error_train = np.zeros((m, 1))\n",
    "    error_val = np.zeros((m, 1))\n",
    "    \n",
    "    for i in np.arange(m):\n",
    "        res = train_linear_regression(X[:i+1], y[:i+1], lam,theta)\n",
    "        error_train[i] = compute_cost_li_reg(res, X[:i+1], y[:i+1], lam)\n",
    "        error_val[i] = compute_cost_li_reg(res, Xval, yval, lam)\n",
    "    \n",
    "    return(error_train, error_val)"
   ]
  },
  {
   "cell_type": "code",
   "execution_count": 13,
   "metadata": {},
   "outputs": [
    {
     "name": "stdout",
     "output_type": "stream",
     "text": [
      "[  1.01769539e-18] [ 205.12109571]\n",
      "[  3.46713088e-09] [ 110.30264078]\n",
      "[ 3.28659505] [ 45.01023145]\n",
      "[ 2.84267769] [ 48.36891025]\n",
      "[ 13.15404881] [ 35.86516474]\n",
      "[ 19.44396251] [ 33.82996155]\n",
      "[ 20.09852166] [ 31.97098583]\n",
      "[ 18.1728587] [ 30.86244631]\n",
      "[ 22.60940542] [ 31.13599786]\n",
      "[ 23.26146159] [ 28.93620747]\n",
      "[ 24.31724959] [ 29.55143162]\n",
      "[ 22.3739065] [ 29.43381813]\n"
     ]
    },
    {
     "data": {
      "image/png": "[encoded data removed]",
      "text/plain": [
       "<matplotlib.figure.Figure at 0x157a9c9cc0>"
      ]
     },
     "metadata": {},
     "output_type": "display_data"
    }
   ],
   "source": [
    "Xval=data['Xval']\n",
    "yval=data['yval']\n",
    "lam=0\n",
    "z=learningCurve(np.c_[np.ones((X.shape[0], 1)),X],y,np.c_[np.ones((Xval.shape[0], 1)),Xval],yval,lam) \n",
    "error_train=z[0]\n",
    "error_val=z[1]\n",
    "for i in range(error_train.shape[0]):\n",
    "     print(error_train[i],error_val[i])\n",
    "xvalues=np.linspace(1,X.shape[0],12)\n",
    "# print(xvalues,X.shape[0])\n",
    "# print(xvalues.shape,error_train.shape)\n",
    "a,=plt.plot(xvalues, error_train,c='red')\n",
    "b,=plt.plot(xvalues, error_val,c='blue')\n",
    "plt.title('Learning curve for linear regression')\n",
    "plt.legend((a,b),('Train','Cross Validation'),loc=1)\n",
    "plt.xlabel('Number of training examples')\n",
    "plt.ylabel('Error')\n",
    "# plt.axis([0,13,0,150])\n",
    "plt.show()"
   ]
  },
  {
   "cell_type": "code",
   "execution_count": 14,
   "metadata": {
    "collapsed": true
   },
   "outputs": [],
   "source": [
    "plt.close('all')"
   ]
  },
  {
   "cell_type": "markdown",
   "metadata": {},
   "source": [
    "### Feature Mapping for Polynomial Regression"
   ]
  },
  {
   "cell_type": "code",
   "execution_count": 15,
   "metadata": {},
   "outputs": [
    {
     "data": {
      "text/plain": [
       "(12, 9)"
      ]
     },
     "execution_count": 15,
     "metadata": {},
     "output_type": "execute_result"
    }
   ],
   "source": [
    "poly = PolynomialFeatures(degree=8)\n",
    "X_train=np.c_[np.ones((X.shape[0],1)),X]\n",
    "X_train_poly = poly.fit_transform(X_train[:,1].reshape(-1,1))\n",
    "X_train_poly.shape"
   ]
  },
  {
   "cell_type": "code",
   "execution_count": 16,
   "metadata": {},
   "outputs": [],
   "source": [
    "# Normalizing features\n",
    "X_train_poly=normalize(X_train_poly)"
   ]
  },
  {
   "cell_type": "code",
   "execution_count": 17,
   "metadata": {},
   "outputs": [
    {
     "data": {
      "text/plain": [
       "array([ -2.91565857e+06,  -2.30633677e+06,  -1.84810806e+06,\n",
       "         3.61807468e+06,   1.27050272e+05,  -9.04339169e+04,\n",
       "        -3.27523930e+03,   4.90996265e+02,   1.90569432e+01])"
      ]
     },
     "execution_count": 17,
     "metadata": {},
     "output_type": "execute_result"
    }
   ],
   "source": [
    "#training linear regression model\n",
    "opt_theta=train_linear_regression(X_train_poly,y,lam=0, initial_theta = np.zeros((9)))\n",
    "opt_theta"
   ]
  },
  {
   "cell_type": "code",
   "execution_count": 18,
   "metadata": {},
   "outputs": [
    {
     "data": {
      "text/plain": [
       "array([ -3.95201639,   2.01110555,  28.3361703 ,  28.20932037,\n",
       "         8.24480795,   3.05257342,  18.36612778,   4.36677248,\n",
       "         3.74018339,   7.37575062,   7.19735998,  27.6629258 ])"
      ]
     },
     "execution_count": 18,
     "metadata": {},
     "output_type": "execute_result"
    }
   ],
   "source": [
    "z=np.sum(np.multiply(np.c_[opt_theta].T,X_train_poly),axis=1)\n",
    "z"
   ]
  },
  {
   "cell_type": "markdown",
   "metadata": {},
   "source": [
    "### Plotting "
   ]
  },
  {
   "cell_type": "code",
   "execution_count": 19,
   "metadata": {},
   "outputs": [],
   "source": [
    "plt.close('all')"
   ]
  },
  {
   "cell_type": "code",
   "execution_count": 20,
   "metadata": {},
   "outputs": [
    {
     "data": {
      "image/png": "[encoded data removed]",
      "text/plain": [
       "<matplotlib.figure.Figure at 0x157a939438>"
      ]
     },
     "metadata": {},
     "output_type": "display_data"
    }
   ],
   "source": [
    "poly = PolynomialFeatures(degree=8)\n",
    "X_train_poly = poly.fit_transform(X_train[:,1].reshape(-1,1))\n",
    "n_points_to_plot = 12\n",
    "plot_x = np.linspace(-60,45)\n",
    "regr2 = LinearRegression()\n",
    "regr2.fit(X_train_poly, y)\n",
    "regr2.coef_.shape\n",
    "plot_y = regr2.intercept_+ np.sum(regr2.coef_*poly.fit_transform(plot_x.reshape(-1,1)), axis=1)\n",
    "plt.xlabel('Change in water level (x)')\n",
    "plt.ylabel('Water flowing out of the dam (y)') \n",
    "plt.scatter(X,y,marker='x',c='r',linewidths=1.5)\n",
    "plt.plot(plot_x,plot_y,'b--')\n",
    "plt.show()"
   ]
  },
  {
   "cell_type": "code",
   "execution_count": 21,
   "metadata": {
    "collapsed": true
   },
   "outputs": [],
   "source": [
    "plt.close('all')"
   ]
  },
  {
   "cell_type": "code",
   "execution_count": null,
   "metadata": {
    "collapsed": true
   },
   "outputs": [],
   "source": []
  }
 ],
 "metadata": {
  "anaconda-cloud": {},
  "kernelspec": {
   "display_name": "Python 3",
   "language": "python",
   "name": "python3"
  }
 },
 "nbformat": 4,
 "nbformat_minor": 2
}
